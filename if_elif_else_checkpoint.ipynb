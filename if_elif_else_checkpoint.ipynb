{
  "nbformat": 4,
  "nbformat_minor": 0,
  "metadata": {
    "kernelspec": {
      "display_name": "Python 3",
      "language": "python",
      "name": "python3"
    },
    "language_info": {
      "codemirror_mode": {
        "name": "ipython",
        "version": 3
      },
      "file_extension": ".py",
      "mimetype": "text/x-python",
      "name": "python",
      "nbconvert_exporter": "python",
      "pygments_lexer": "ipython3",
      "version": "3.6.1"
    },
    "colab": {
      "name": "if-elif-else-checkpoint.ipynb",
      "provenance": [],
      "include_colab_link": true
    }
  },
  "cells": [
    {
      "cell_type": "markdown",
      "metadata": {
        "id": "view-in-github",
        "colab_type": "text"
      },
      "source": [
        "<a href=\"https://colab.research.google.com/github/Sagarranjan007/Python/blob/master/if_elif_else_checkpoint.ipynb\" target=\"_parent\"><img src=\"https://colab.research.google.com/assets/colab-badge.svg\" alt=\"Open In Colab\"/></a>"
      ]
    },
    {
      "cell_type": "markdown",
      "metadata": {
        "collapsed": true,
        "id": "RNl-8gKg4CA9",
        "colab_type": "text"
      },
      "source": [
        "# Python if ... else Statement"
      ]
    },
    {
      "cell_type": "markdown",
      "metadata": {
        "id": "SSzs2h7d4CA_",
        "colab_type": "text"
      },
      "source": [
        "The **if…elif…else** statement is used in Python for decision making."
      ]
    },
    {
      "cell_type": "markdown",
      "metadata": {
        "id": "o7eFj6rG4CBA",
        "colab_type": "text"
      },
      "source": [
        "# if statement syntax"
      ]
    },
    {
      "cell_type": "markdown",
      "metadata": {
        "id": "tPm5W-TP4CBB",
        "colab_type": "text"
      },
      "source": [
        "    if test expression:\n",
        "\n",
        "        statement(s)"
      ]
    },
    {
      "cell_type": "markdown",
      "metadata": {
        "id": "uOwlQFxt4CBC",
        "colab_type": "text"
      },
      "source": [
        "The program evaluates the test expression and will execute statement(s) only if the text expression is True.\n",
        "\n",
        "If the text expression is False, the statement(s) is not executed."
      ]
    },
    {
      "cell_type": "markdown",
      "metadata": {
        "id": "Zd4sGUlQ4CBC",
        "colab_type": "text"
      },
      "source": [
        "Python interprets non-zero values as True. None and 0 are interpreted as False."
      ]
    },
    {
      "cell_type": "markdown",
      "metadata": {
        "id": "C_AajMvv4CBD",
        "colab_type": "text"
      },
      "source": [
        "# Flow Chart"
      ]
    },
    {
      "cell_type": "markdown",
      "metadata": {
        "id": "9AlHJ8o04CBE",
        "colab_type": "text"
      },
      "source": [
        "![title](Python_if_statement.jpg)"
      ]
    },
    {
      "cell_type": "markdown",
      "metadata": {
        "id": "RM1tTwgY4CBE",
        "colab_type": "text"
      },
      "source": [
        "# Example"
      ]
    },
    {
      "cell_type": "code",
      "metadata": {
        "id": "uBrj_7vY4CBF",
        "colab_type": "code",
        "colab": {
          "base_uri": "https://localhost:8080/",
          "height": 51
        },
        "outputId": "7e513a66-f7ee-4b0b-ea7a-e2c8858142b9"
      },
      "source": [
        "num = 10\n",
        "\n",
        "# try 0, -1 and None\n",
        "if num >= 10:\n",
        "    print(\"Number is positive\")\n",
        "print(\"This will print always\")      #This print statement always print\n",
        "\n",
        "#change number \n"
      ],
      "execution_count": 3,
      "outputs": [
        {
          "output_type": "stream",
          "text": [
            "Number is positive\n",
            "This will print always\n"
          ],
          "name": "stdout"
        }
      ]
    },
    {
      "cell_type": "markdown",
      "metadata": {
        "id": "EJ8ksBAH4CBM",
        "colab_type": "text"
      },
      "source": [
        "# if ... else Statement"
      ]
    },
    {
      "cell_type": "markdown",
      "metadata": {
        "id": "9N194lGE4CBN",
        "colab_type": "text"
      },
      "source": [
        "# Syntax:"
      ]
    },
    {
      "cell_type": "markdown",
      "metadata": {
        "id": "B6NyqNXN4CBN",
        "colab_type": "text"
      },
      "source": [
        "    if test expression:\n",
        "    \n",
        "        Body of if\n",
        "\n",
        "    else: \n",
        "    \n",
        "        Body of else"
      ]
    },
    {
      "cell_type": "markdown",
      "metadata": {
        "id": "-3thEqmL4CBO",
        "colab_type": "text"
      },
      "source": [
        "# Flow Chart"
      ]
    },
    {
      "cell_type": "markdown",
      "metadata": {
        "id": "sTMrSco-4CBP",
        "colab_type": "text"
      },
      "source": [
        "![title](Python_if_else_statement.jpg)"
      ]
    },
    {
      "cell_type": "markdown",
      "metadata": {
        "id": "KGV2xRp54CBQ",
        "colab_type": "text"
      },
      "source": [
        "# Example"
      ]
    },
    {
      "cell_type": "code",
      "metadata": {
        "id": "5_283aFv4CBR",
        "colab_type": "code",
        "colab": {
          "base_uri": "https://localhost:8080/",
          "height": 34
        },
        "outputId": "ccbf3f08-eddd-4241-c9f4-a9af48cccc3d"
      },
      "source": [
        "num = 10\n",
        "if num > 0:\n",
        "    print(\"Positive number\")\n",
        "else:\n",
        "    print(\"Negative Number\")"
      ],
      "execution_count": 4,
      "outputs": [
        {
          "output_type": "stream",
          "text": [
            "Positive number\n"
          ],
          "name": "stdout"
        }
      ]
    },
    {
      "cell_type": "markdown",
      "metadata": {
        "id": "VWMOEV8U4CBX",
        "colab_type": "text"
      },
      "source": [
        "# if...elif...else Statement"
      ]
    },
    {
      "cell_type": "markdown",
      "metadata": {
        "id": "jtKMPaTy4CBY",
        "colab_type": "text"
      },
      "source": [
        "# Syntax:"
      ]
    },
    {
      "cell_type": "markdown",
      "metadata": {
        "id": "BUcdRdc94CBZ",
        "colab_type": "text"
      },
      "source": [
        "    if test expression:\n",
        "\n",
        "        Body of if\n",
        "    elif test expression:\n",
        "    \n",
        "        Body of elif\n",
        "    else: \n",
        "    \n",
        "        Body of else"
      ]
    },
    {
      "cell_type": "markdown",
      "metadata": {
        "id": "inhEm3A64CBa",
        "colab_type": "text"
      },
      "source": [
        "# Flow Chart"
      ]
    },
    {
      "cell_type": "markdown",
      "metadata": {
        "id": "CeAlcTFX4CBa",
        "colab_type": "text"
      },
      "source": [
        "![title](Python_if_elif_else_statement.jpg)"
      ]
    },
    {
      "cell_type": "markdown",
      "metadata": {
        "id": "DBTuGQXD4CBb",
        "colab_type": "text"
      },
      "source": [
        "# Example:"
      ]
    },
    {
      "cell_type": "code",
      "metadata": {
        "id": "zjM21-BB4CBc",
        "colab_type": "code",
        "colab": {
          "base_uri": "https://localhost:8080/",
          "height": 34
        },
        "outputId": "3b689712-b6d5-4f58-b2c1-3f1c255a9151"
      },
      "source": [
        "num = \n",
        "\n",
        "if num > 0:\n",
        "    print(\"Positive number\")\n",
        "elif num == 0:\n",
        "    print(\"ZERO\")\n",
        "else:\n",
        "    print(\"Negative Number\")"
      ],
      "execution_count": 7,
      "outputs": [
        {
          "output_type": "stream",
          "text": [
            "Negative Number\n"
          ],
          "name": "stdout"
        }
      ]
    },
    {
      "cell_type": "markdown",
      "metadata": {
        "id": "4fZtOjX04CBg",
        "colab_type": "text"
      },
      "source": [
        "# Nested if Statements"
      ]
    },
    {
      "cell_type": "markdown",
      "metadata": {
        "id": "h1wn_RTn4CBg",
        "colab_type": "text"
      },
      "source": [
        "We can have a if...elif...else statement inside another if...elif...else statement. This is called nesting in computer programming."
      ]
    },
    {
      "cell_type": "markdown",
      "metadata": {
        "id": "jcDsIexa4CBh",
        "colab_type": "text"
      },
      "source": [
        "# Example:"
      ]
    },
    {
      "cell_type": "code",
      "metadata": {
        "id": "qMmos7me4CBh",
        "colab_type": "code",
        "colab": {
          "base_uri": "https://localhost:8080/",
          "height": 34
        },
        "outputId": "e6fd3bee-4be7-4a31-bc7a-b2460d38535b"
      },
      "source": [
        "num = 10.5\n",
        "\n",
        "if num >= 0:\n",
        "    if num == 0:\n",
        "        print(\"Zero\")\n",
        "    else:\n",
        "        print(\"Positive number\")\n",
        "else:\n",
        "    print(\"Negative Number\")"
      ],
      "execution_count": 8,
      "outputs": [
        {
          "output_type": "stream",
          "text": [
            "Positive number\n"
          ],
          "name": "stdout"
        }
      ]
    },
    {
      "cell_type": "markdown",
      "metadata": {
        "id": "6_zIQ9Ih4CBl",
        "colab_type": "text"
      },
      "source": [
        "# Python program to find the largest element among three Numbers"
      ]
    },
    {
      "cell_type": "code",
      "metadata": {
        "id": "xiD7sv844CBm",
        "colab_type": "code",
        "colab": {
          "base_uri": "https://localhost:8080/",
          "height": 34
        },
        "outputId": "095ae151-1ca0-4cd2-eeef-0537a8552db6"
      },
      "source": [
        "num1 = 10\n",
        "num2 = 50\n",
        "num3 = 15\n",
        "\n",
        "if (num1 >= num2) and (num1 >= num3):           #logical operator   and\n",
        "    largest = num1\n",
        "elif (num2 >= num1) and (num2 >= num3):\n",
        "    largest = num2\n",
        "else:\n",
        "    largest = num3\n",
        "print(\"Largest element among three numbers is: {}\".format(largest))"
      ],
      "execution_count": 9,
      "outputs": [
        {
          "output_type": "stream",
          "text": [
            "Largest element among three numbers is: 50\n"
          ],
          "name": "stdout"
        }
      ]
    },
    {
      "cell_type": "markdown",
      "metadata": {
        "id": "s6dVtYn164jZ",
        "colab_type": "text"
      },
      "source": [
        "it compares based on ascii when it is string. so ascii of '5' = 53, '9' = 57, '10' = '1','0' = 49,48 and '20' = '2' , '0' = 50, 48"
      ]
    },
    {
      "cell_type": "code",
      "metadata": {
        "id": "ee_odAYB5ybp",
        "colab_type": "code",
        "colab": {
          "base_uri": "https://localhost:8080/",
          "height": 136
        },
        "outputId": "d0009d42-8941-440b-ddbf-65c12eaad73f"
      },
      "source": [
        "num1=int(input(\"Enter a number:\"))\n",
        "print(num1)\n",
        "type(num1)\n",
        "num2=int(input(\"Enter a number:\"))\n",
        "print(num2)\n",
        "num3=int(input(\"Enter a number:\"))\n",
        "print(num3)\n",
        "if (num1 >= num2 and num1 >= num3):\n",
        "  largest=num1\n",
        "elif(num2 >= num1 and num2 >= num3):\n",
        "  largest=num2\n",
        "else:\n",
        "  largest=num3\n",
        "print(\"largest elements among three is :{}\".format(largest)) "
      ],
      "execution_count": 14,
      "outputs": [
        {
          "output_type": "stream",
          "text": [
            "Enter a number:9\n",
            "9\n",
            "Enter a number:10\n",
            "10\n",
            "Enter a number:4\n",
            "4\n",
            "largest elements among three is :10\n"
          ],
          "name": "stdout"
        }
      ]
    }
  ]
}