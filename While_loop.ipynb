{
  "nbformat": 4,
  "nbformat_minor": 0,
  "metadata": {
    "kernelspec": {
      "display_name": "Python 3",
      "language": "python",
      "name": "python3"
    },
    "language_info": {
      "codemirror_mode": {
        "name": "ipython",
        "version": 3
      },
      "file_extension": ".py",
      "mimetype": "text/x-python",
      "name": "python",
      "nbconvert_exporter": "python",
      "pygments_lexer": "ipython3",
      "version": "3.6.1"
    },
    "colab": {
      "name": "While-loop.ipynb",
      "provenance": [],
      "include_colab_link": true
    }
  },
  "cells": [
    {
      "cell_type": "markdown",
      "metadata": {
        "id": "view-in-github",
        "colab_type": "text"
      },
      "source": [
        "<a href=\"https://colab.research.google.com/github/Sagarranjan007/Python/blob/master/While_loop.ipynb\" target=\"_parent\"><img src=\"https://colab.research.google.com/assets/colab-badge.svg\" alt=\"Open In Colab\"/></a>"
      ]
    },
    {
      "cell_type": "markdown",
      "metadata": {
        "id": "07ksljDtKAHa",
        "colab_type": "text"
      },
      "source": [
        "# Python while Loop"
      ]
    },
    {
      "cell_type": "markdown",
      "metadata": {
        "id": "2OItOHUHKAHb",
        "colab_type": "text"
      },
      "source": [
        "The while loop in Python is used to iterate over a block of code as long as the test expression (condition) is true.\n",
        "\n"
      ]
    },
    {
      "cell_type": "markdown",
      "metadata": {
        "id": "WWLJzdWHKAHc",
        "colab_type": "text"
      },
      "source": [
        "# Syntax:"
      ]
    },
    {
      "cell_type": "markdown",
      "metadata": {
        "id": "lnGzbA0QKAHd",
        "colab_type": "text"
      },
      "source": [
        "    while test_expression:\n",
        "        \n",
        "        Body of while"
      ]
    },
    {
      "cell_type": "markdown",
      "metadata": {
        "id": "Ado-uFWRKAHf",
        "colab_type": "text"
      },
      "source": [
        "The body of the loop is entered only if the test_expression evaluates to True. \n",
        "\n",
        "After one iteration, the test expression is checked again. \n",
        "\n",
        "This process continues until the test_expression evaluates to False."
      ]
    },
    {
      "cell_type": "markdown",
      "metadata": {
        "id": "ney6zqygKAHf",
        "colab_type": "text"
      },
      "source": [
        "# Flow Chart"
      ]
    },
    {
      "cell_type": "markdown",
      "metadata": {
        "id": "F9ALpRDlKAHg",
        "colab_type": "text"
      },
      "source": [
        "![title](whileloop.jpg)"
      ]
    },
    {
      "cell_type": "markdown",
      "metadata": {
        "id": "x5K-OhLWKAHh",
        "colab_type": "text"
      },
      "source": [
        "# Example"
      ]
    },
    {
      "cell_type": "code",
      "metadata": {
        "id": "hSScsfzjKAHi",
        "colab_type": "code",
        "outputId": "2549bdc7-f3e5-4a22-8771-1d1047b77f80",
        "colab": {
          "base_uri": "https://localhost:8080/",
          "height": 34
        }
      },
      "source": [
        "#Find product of all numbers present in a list\n",
        "\n",
        "lst = [10, 20, 30, 40, 60]\n",
        "\n",
        "product = 1\n",
        "index = 0\n",
        "\n",
        "while index < len(lst):\n",
        "    product *= lst[index]\n",
        "    index += 1\n",
        "\n",
        "print(\"Product is: {}\".format(product))\n"
      ],
      "execution_count": 1,
      "outputs": [
        {
          "output_type": "stream",
          "text": [
            "Product is: 14400000\n"
          ],
          "name": "stdout"
        }
      ]
    },
    {
      "cell_type": "markdown",
      "metadata": {
        "id": "yh4ZfYEbKAHm",
        "colab_type": "text"
      },
      "source": [
        "# while Loop with else\n"
      ]
    },
    {
      "cell_type": "markdown",
      "metadata": {
        "id": "huxkWIqIKAHn",
        "colab_type": "text"
      },
      "source": [
        "Same as that of for loop, we can have an optional else block with while loop as well.\n",
        "\n",
        "The else part is executed if the condition in the while loop evaluates to False. The while loop can be terminated with a break statement.\n",
        "\n",
        "In such case, the else part is ignored. Hence, a while loop's else part runs if no break occurs and the condition is false.\n",
        "\n"
      ]
    },
    {
      "cell_type": "code",
      "metadata": {
        "id": "mSKSiUt6KAHo",
        "colab_type": "code",
        "outputId": "7f269f1a-c6b2-4ade-a020-81ce2c95ddfa",
        "colab": {
          "base_uri": "https://localhost:8080/",
          "height": 119
        }
      },
      "source": [
        "numbers = [1, 2, 3,4,5]\n",
        "\n",
        "#iterating over the list\n",
        "index = 0\n",
        "while index < len(numbers):\n",
        "    print(numbers[index])\n",
        "    index += 1\n",
        "    \n",
        "else:\n",
        "    print(\"no item left in the list\")"
      ],
      "execution_count": 2,
      "outputs": [
        {
          "output_type": "stream",
          "text": [
            "1\n",
            "2\n",
            "3\n",
            "4\n",
            "5\n",
            "no item left in the list\n"
          ],
          "name": "stdout"
        }
      ]
    },
    {
      "cell_type": "markdown",
      "metadata": {
        "id": "CrDoBi92KAHv",
        "colab_type": "text"
      },
      "source": [
        "# Python Program to check given number is Prime number or not"
      ]
    },
    {
      "cell_type": "code",
      "metadata": {
        "id": "lSxKkUZ5KAHw",
        "colab_type": "code",
        "outputId": "b89f9d35-e859-4093-deb0-0607195d3376",
        "colab": {
          "base_uri": "https://localhost:8080/",
          "height": 51
        }
      },
      "source": [
        "num = int(input(\"Enter a number: \"))        #convert string to int\n",
        "\n",
        "\n",
        "isDivisible = True;\n",
        "\n",
        "i=2;\n",
        "while i < num:\n",
        "    if num % i == 0:\n",
        "        isDivisible = True;\n",
        "        print (\"{} is divisible by {}\".format(num,i) )\n",
        "    i += 1;\n",
        "    \n",
        "if isDivisible:\n",
        "    print(\"{} is NOT a Prime number\".format(num))\n",
        "else:\n",
        "    print(\"{} is a Prime number\".format(num))\n"
      ],
      "execution_count": 6,
      "outputs": [
        {
          "output_type": "stream",
          "text": [
            "Enter a number: 19\n",
            "19 is NOT a Prime number\n"
          ],
          "name": "stdout"
        }
      ]
    },
    {
      "cell_type": "code",
      "metadata": {
        "id": "LbwaOl7hKAH0",
        "colab_type": "code",
        "colab": {}
      },
      "source": [
        ""
      ],
      "execution_count": 0,
      "outputs": []
    }
  ]
}